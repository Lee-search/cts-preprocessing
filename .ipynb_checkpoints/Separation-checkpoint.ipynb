{
 "cells": [
  {
   "cell_type": "markdown",
   "id": "d7b96b9a-3740-417e-970a-022a4ff9814e",
   "metadata": {},
   "source": [
    "### Clinical-Trials Criteria Separation"
   ]
  },
  {
   "cell_type": "markdown",
   "id": "50210aa8-105b-431e-8abb-2f7a256b1d0b",
   "metadata": {
    "tags": []
   },
   "source": [
    "### ---- MAIN ----"
   ]
  },
  {
   "cell_type": "code",
   "execution_count": 1,
   "id": "99f042e6-aed9-45a5-b109-e6e033c4b1d5",
   "metadata": {
    "tags": []
   },
   "outputs": [
    {
     "name": "stderr",
     "output_type": "stream",
     "text": [
      "50019it [03:34, 190.46it/s]"
     ]
    },
    {
     "name": "stdout",
     "output_type": "stream",
     "text": [
      "50000: Doc_id is NCT00041743\n",
      "\n"
     ]
    },
    {
     "name": "stderr",
     "output_type": "stream",
     "text": [
      "100039it [07:08, 305.12it/s]"
     ]
    },
    {
     "name": "stdout",
     "output_type": "stream",
     "text": [
      "100000: Doc_id is NCT01774292\n",
      "\n"
     ]
    },
    {
     "name": "stderr",
     "output_type": "stream",
     "text": [
      "150027it [10:50, 220.87it/s]"
     ]
    },
    {
     "name": "stdout",
     "output_type": "stream",
     "text": [
      "150000: Doc_id is NCT01842737\n",
      "\n"
     ]
    },
    {
     "name": "stderr",
     "output_type": "stream",
     "text": [
      "200073it [13:26, 425.83it/s]"
     ]
    },
    {
     "name": "stdout",
     "output_type": "stream",
     "text": [
      "200000: Doc_id is NCT03587987\n",
      "\n"
     ]
    },
    {
     "name": "stderr",
     "output_type": "stream",
     "text": [
      "250069it [15:43, 352.63it/s]"
     ]
    },
    {
     "name": "stdout",
     "output_type": "stream",
     "text": [
      "250000: Doc_id is NCT04337151\n",
      "\n"
     ]
    },
    {
     "name": "stderr",
     "output_type": "stream",
     "text": [
      "300024it [17:49, 265.57it/s]"
     ]
    },
    {
     "name": "stdout",
     "output_type": "stream",
     "text": [
      "300000: Doc_id is NCT02456233\n",
      "\n"
     ]
    },
    {
     "name": "stderr",
     "output_type": "stream",
     "text": [
      "350033it [21:07, 306.31it/s]"
     ]
    },
    {
     "name": "stdout",
     "output_type": "stream",
     "text": [
      "350000: Doc_id is NCT02882815\n",
      "\n"
     ]
    },
    {
     "name": "stderr",
     "output_type": "stream",
     "text": [
      "375580it [22:57, 272.56it/s]"
     ]
    },
    {
     "name": "stdout",
     "output_type": "stream",
     "text": [
      "Total Documents Count: 375580\n",
      "Criteria Not Exist: 10353\n"
     ]
    },
    {
     "name": "stderr",
     "output_type": "stream",
     "text": [
      "\n"
     ]
    }
   ],
   "source": [
    "from Internal_methods import XML_preprocessing\n",
    "\n",
    "if __name__ == \"__main__\":\n",
    "    \n",
    "    # 파일 데이터\n",
    "    #file_list = 'filelist'\n",
    "    file_list - 'sample_list'\n",
    "    \n",
    "    # 저장될 위치\n",
    "    output_path = './CTs-processed-sample'\n",
    "    \n",
    "    XML_preprocessing(file_list, output_path)"
   ]
  },
  {
   "cell_type": "code",
   "execution_count": 2,
   "id": "bdc6620f-1d42-429a-b419-1fd59c58f0a8",
   "metadata": {},
   "outputs": [
    {
     "data": {
      "text/plain": [
       "'/home2/ukyoung/my-python/TREC/문서전처리_0712'"
      ]
     },
     "execution_count": 2,
     "metadata": {},
     "output_type": "execute_result"
    }
   ],
   "source": [
    "import os\n",
    "os.getcwd()"
   ]
  }
 ],
 "metadata": {
  "kernelspec": {
   "display_name": "Python 3",
   "language": "python",
   "name": "python3"
  },
  "language_info": {
   "codemirror_mode": {
    "name": "ipython",
    "version": 3
   },
   "file_extension": ".py",
   "mimetype": "text/x-python",
   "name": "python",
   "nbconvert_exporter": "python",
   "pygments_lexer": "ipython3",
   "version": "3.6.13"
  }
 },
 "nbformat": 4,
 "nbformat_minor": 5
}
