{
 "cells": [
  {
   "cell_type": "markdown",
   "id": "d7b96b9a-3740-417e-970a-022a4ff9814e",
   "metadata": {},
   "source": [
    "### Clinical-Trials Criteria Separation"
   ]
  },
  {
   "cell_type": "markdown",
   "id": "50210aa8-105b-431e-8abb-2f7a256b1d0b",
   "metadata": {
    "tags": []
   },
   "source": [
    "### ---- MAIN ----"
   ]
  },
  {
   "cell_type": "code",
   "execution_count": 4,
   "id": "99f042e6-aed9-45a5-b109-e6e033c4b1d5",
   "metadata": {
    "tags": []
   },
   "outputs": [
    {
     "name": "stderr",
     "output_type": "stream",
     "text": [
      "10it [00:00, 120.46it/s]"
     ]
    },
    {
     "name": "stdout",
     "output_type": "stream",
     "text": [
      "Total Documents Count: 10\n",
      "Criteria Not Exist: 0\n"
     ]
    },
    {
     "name": "stderr",
     "output_type": "stream",
     "text": [
      "\n"
     ]
    }
   ],
   "source": [
    "from Internal_methods import XML_preprocessing\n",
    "\n",
    "if __name__ == \"__main__\":\n",
    "    \n",
    "    # 파일 데이터\n",
    "    #file_list = 'filelist'\n",
    "    file_list = 'sample_list'\n",
    "    \n",
    "    # 저장될 위치\n",
    "    output_path = './CTs-processed-sample'\n",
    "    \n",
    "    XML_preprocessing(file_list, output_path)"
   ]
  }
 ],
 "metadata": {
  "kernelspec": {
   "display_name": "Python 3",
   "language": "python",
   "name": "python3"
  },
  "language_info": {
   "codemirror_mode": {
    "name": "ipython",
    "version": 3
   },
   "file_extension": ".py",
   "mimetype": "text/x-python",
   "name": "python",
   "nbconvert_exporter": "python",
   "pygments_lexer": "ipython3",
   "version": "3.6.13"
  }
 },
 "nbformat": 4,
 "nbformat_minor": 5
}
